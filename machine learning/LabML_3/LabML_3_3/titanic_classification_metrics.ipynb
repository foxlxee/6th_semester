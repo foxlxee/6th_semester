import pandas as pd
import numpy as np
import matplotlib.pyplot as plt
import seaborn as sns

from sklearn.model_selection import train_test_split
from sklearn.linear_model import LogisticRegression
from sklearn.svm import SVC
from sklearn.neighbors import KNeighborsClassifier
from sklearn.metrics import (
    accuracy_score, precision_score, recall_score, f1_score,
    confusion_matrix, precision_recall_curve, roc_curve, auc
)

# Чтение и предобработка
data = pd.read_csv('titanic.csv')
data = data.dropna()
non_numeric_columns = data.select_dtypes(include=['object']).columns
columns_to_drop = [col for col in non_numeric_columns if col not in ['Sex', 'Embarked']]
data = data.drop(columns=columns_to_drop)
data['Sex'] = data['Sex'].map({'male': 0, 'female': 1})
data['Embarked'] = data['Embarked'].map({'C': 1, 'Q': 2, 'S': 3})
if 'PassengerId' in data.columns:
    data = data.drop(columns=['PassengerId'])

# Деление на выборки
X = data.drop('Survived', axis=1)
y = data['Survived']
X_train, X_test, y_train, y_test = train_test_split(X, y, test_size=0.2, random_state=42)

# Функция для вывода метрик и графиков
def evaluate_model(name, model, X_test, y_test):
    y_pred = model.predict(X_test)
    y_prob = model.predict_proba(X_test)[:, 1] if hasattr(model, "predict_proba") else None

    acc = accuracy_score(y_test, y_pred)
    prec = precision_score(y_test, y_pred)
    rec = recall_score(y_test, y_pred)
    f1 = f1_score(y_test, y_pred)

    print(f"=== {name} ===")
    print(f"Accuracy:  {acc:.4f}")
    print(f"Precision: {prec:.4f}")
    print(f"Recall:    {rec:.4f}")
    print(f"F1 Score:  {f1:.4f}")

    # Confusion Matrix
    cm = confusion_matrix(y_test, y_pred)
    plt.figure(figsize=(5,4))
    sns.heatmap(cm, annot=True, fmt="d", cmap="Blues")
    plt.title(f"{name} — Confusion Matrix")
    plt.xlabel("Predicted")
    plt.ylabel("Actual")
    plt.show()

    # PR Curve
    if y_prob is not None:
        precision, recall, _ = precision_recall_curve(y_test, y_prob)
        plt.figure()
        plt.plot(recall, precision, label="PR curve")
        plt.xlabel("Recall")
        plt.ylabel("Precision")
        plt.title(f"{name} — Precision-Recall Curve")
        plt.grid(True)
        plt.legend()
        plt.show()

        # ROC Curve
        fpr, tpr, _ = roc_curve(y_test, y_prob)
        roc_auc = auc(fpr, tpr)
        plt.figure()
        plt.plot(fpr, tpr, label=f"ROC curve (AUC = {roc_auc:.2f})")
        plt.plot([0, 1], [0, 1], 'k--')
        plt.xlabel("False Positive Rate")
        plt.ylabel("True Positive Rate")
        plt.title(f"{name} — ROC Curve")
        plt.grid(True)
        plt.legend()
        plt.show()

# Часть 1: Logistic Regression
log_model = LogisticRegression(max_iter=1000)
log_model.fit(X_train, y_train)
evaluate_model("Logistic Regression", log_model, X_test, y_test)

# Часть 2: SVM
svm_model = SVC(probability=True)
svm_model.fit(X_train, y_train)
evaluate_model("Support Vector Machine", svm_model, X_test, y_test)

# Часть 2: KNN
knn_model = KNeighborsClassifier(n_neighbors=5)
knn_model.fit(X_train, y_train)
evaluate_model("K-Nearest Neighbors", knn_model, X_test, y_test)
